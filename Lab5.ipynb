{
  "nbformat": 4,
  "nbformat_minor": 0,
  "metadata": {
    "colab": {
      "name": "Lab5.ipynb",
      "provenance": [],
      "collapsed_sections": [],
      "authorship_tag": "ABX9TyMSwLX3FcmqTQ2nL5lX+SPA",
      "include_colab_link": true
    },
    "kernelspec": {
      "name": "python3",
      "display_name": "Python 3"
    },
    "language_info": {
      "name": "python"
    },
    "accelerator": "GPU"
  },
  "cells": [
    {
      "cell_type": "markdown",
      "metadata": {
        "id": "view-in-github",
        "colab_type": "text"
      },
      "source": [
        "<a href=\"https://colab.research.google.com/github/OlegBogutsky/nn2022/blob/main/Lab5.ipynb\" target=\"_parent\"><img src=\"https://colab.research.google.com/assets/colab-badge.svg\" alt=\"Open In Colab\"/></a>"
      ]
    },
    {
      "cell_type": "markdown",
      "source": [
        "# Лабораторна робота № 5\n",
        "---\n",
        "## Виконав Богуцький Олег, КН-31\n",
        "#Завдання:\n",
        "1. На основі документу вирішити завдання класифікації зображень їжі для 3 класів з набору даних food101\n",
        "2. Індекси класів визначити індивідуально за залежностями: i1=n-1,i2=n+29,i3=n+59 (де і1,і2,і3 - індекс класу (починаючи з 0) у відсортованому за алфавітом наборі даних, n - номер за списком групи.\n",
        "- i1 = 1\n",
        "- i2 = 31\n",
        "- i3 = 61\n",
        "---\n",
        "# Хід роботи\n"
      ],
      "metadata": {
        "id": "4450H6z4WoHJ"
      }
    },
    {
      "cell_type": "markdown",
      "source": [
        "Завантажуємо набір даних."
      ],
      "metadata": {
        "id": "uT5mTfByguYy"
      }
    },
    {
      "cell_type": "code",
      "execution_count": 2,
      "metadata": {
        "colab": {
          "base_uri": "https://localhost:8080/"
        },
        "id": "4RTk4Ic5WfXJ",
        "outputId": "23c46d13-43b2-4d80-c4b9-488415f36e24"
      },
      "outputs": [
        {
          "output_type": "stream",
          "name": "stdout",
          "text": [
            "--2022-04-17 07:32:22--  http://data.vision.ee.ethz.ch/cvl/food-101.tar.gz\n",
            "Resolving data.vision.ee.ethz.ch (data.vision.ee.ethz.ch)... 129.132.52.178, 2001:67c:10ec:36c2::178\n",
            "Connecting to data.vision.ee.ethz.ch (data.vision.ee.ethz.ch)|129.132.52.178|:80... connected.\n",
            "HTTP request sent, awaiting response... 302 Found\n",
            "Location: https://data.vision.ee.ethz.ch/cvl/food-101.tar.gz [following]\n",
            "--2022-04-17 07:32:22--  https://data.vision.ee.ethz.ch/cvl/food-101.tar.gz\n",
            "Connecting to data.vision.ee.ethz.ch (data.vision.ee.ethz.ch)|129.132.52.178|:443... connected.\n",
            "HTTP request sent, awaiting response... 200 OK\n",
            "Length: 4996278331 (4.7G) [application/x-gzip]\n",
            "Saving to: ‘food-101.tar.gz’\n",
            "\n",
            "food-101.tar.gz     100%[===================>]   4.65G  28.2MB/s    in 3m 7s   \n",
            "\n",
            "2022-04-17 07:35:30 (25.4 MB/s) - ‘food-101.tar.gz’ saved [4996278331/4996278331]\n",
            "\n"
          ]
        }
      ],
      "source": [
        "import tarfile\n",
        "\n",
        "\n",
        "!wget http://data.vision.ee.ethz.ch/cvl/food-101.tar.gz\n",
        "\n",
        "file = tarfile.open(\"food-101.tar.gz\")\n",
        "file.extractall()\n",
        "file.close()"
      ]
    },
    {
      "cell_type": "markdown",
      "source": [
        "Перевіряємо файли."
      ],
      "metadata": {
        "id": "9eeiz_m1gzv7"
      }
    },
    {
      "cell_type": "code",
      "source": [
        "import os\n",
        "\n",
        "for dirpath, dirnames, filenames in os.walk(\"food-101\"):\n",
        "  print(f\"There are {len(dirnames)} directories and {len(filenames)} images in '{dirpath}'.\")"
      ],
      "metadata": {
        "colab": {
          "base_uri": "https://localhost:8080/"
        },
        "id": "fXdrcI--gy69",
        "outputId": "bcd46a2c-0d54-4e33-850e-23108dbc603a"
      },
      "execution_count": 9,
      "outputs": [
        {
          "output_type": "stream",
          "name": "stdout",
          "text": [
            "There are 4 directories and 2 images in 'food-101'.\n",
            "There are 3 directories and 0 images in 'food-101/train'.\n",
            "There are 0 directories and 750 images in 'food-101/train/lobster_roll_sandwich'.\n",
            "There are 0 directories and 750 images in 'food-101/train/baby_back_ribs'.\n",
            "There are 0 directories and 750 images in 'food-101/train/donuts'.\n",
            "There are 3 directories and 0 images in 'food-101/test'.\n",
            "There are 0 directories and 250 images in 'food-101/test/lobster_roll_sandwich'.\n",
            "There are 0 directories and 250 images in 'food-101/test/baby_back_ribs'.\n",
            "There are 0 directories and 250 images in 'food-101/test/donuts'.\n",
            "There are 101 directories and 0 images in 'food-101/images'.\n",
            "There are 0 directories and 1000 images in 'food-101/images/chicken_curry'.\n",
            "There are 0 directories and 1000 images in 'food-101/images/club_sandwich'.\n",
            "There are 0 directories and 1000 images in 'food-101/images/garlic_bread'.\n",
            "There are 0 directories and 1000 images in 'food-101/images/chocolate_cake'.\n",
            "There are 0 directories and 1000 images in 'food-101/images/churros'.\n",
            "There are 0 directories and 1000 images in 'food-101/images/macaroni_and_cheese'.\n",
            "There are 0 directories and 1000 images in 'food-101/images/mussels'.\n",
            "There are 0 directories and 1000 images in 'food-101/images/cheesecake'.\n",
            "There are 0 directories and 1000 images in 'food-101/images/croque_madame'.\n",
            "There are 0 directories and 1000 images in 'food-101/images/clam_chowder'.\n",
            "There are 0 directories and 1000 images in 'food-101/images/beignets'.\n",
            "There are 0 directories and 1000 images in 'food-101/images/seaweed_salad'.\n",
            "There are 0 directories and 1000 images in 'food-101/images/falafel'.\n",
            "There are 0 directories and 1000 images in 'food-101/images/french_toast'.\n",
            "There are 0 directories and 1000 images in 'food-101/images/grilled_cheese_sandwich'.\n",
            "There are 0 directories and 1000 images in 'food-101/images/pulled_pork_sandwich'.\n",
            "There are 0 directories and 1000 images in 'food-101/images/hot_dog'.\n",
            "There are 0 directories and 1000 images in 'food-101/images/dumplings'.\n",
            "There are 0 directories and 1000 images in 'food-101/images/pad_thai'.\n",
            "There are 0 directories and 1000 images in 'food-101/images/miso_soup'.\n",
            "There are 0 directories and 1000 images in 'food-101/images/bruschetta'.\n",
            "There are 0 directories and 1000 images in 'food-101/images/caesar_salad'.\n",
            "There are 0 directories and 1000 images in 'food-101/images/beef_tartare'.\n",
            "There are 0 directories and 1000 images in 'food-101/images/pork_chop'.\n",
            "There are 0 directories and 1000 images in 'food-101/images/creme_brulee'.\n",
            "There are 0 directories and 1000 images in 'food-101/images/steak'.\n",
            "There are 0 directories and 1000 images in 'food-101/images/pizza'.\n",
            "There are 0 directories and 1000 images in 'food-101/images/french_onion_soup'.\n",
            "There are 0 directories and 1000 images in 'food-101/images/omelette'.\n",
            "There are 0 directories and 1000 images in 'food-101/images/chocolate_mousse'.\n",
            "There are 0 directories and 1000 images in 'food-101/images/spring_rolls'.\n",
            "There are 0 directories and 1000 images in 'food-101/images/ceviche'.\n",
            "There are 0 directories and 1000 images in 'food-101/images/cannoli'.\n",
            "There are 0 directories and 1000 images in 'food-101/images/hamburger'.\n",
            "There are 0 directories and 1000 images in 'food-101/images/pho'.\n",
            "There are 0 directories and 1000 images in 'food-101/images/chicken_quesadilla'.\n",
            "There are 0 directories and 1000 images in 'food-101/images/prime_rib'.\n",
            "There are 0 directories and 1000 images in 'food-101/images/chicken_wings'.\n",
            "There are 0 directories and 1000 images in 'food-101/images/eggs_benedict'.\n",
            "There are 0 directories and 1000 images in 'food-101/images/escargots'.\n",
            "There are 0 directories and 1000 images in 'food-101/images/waffles'.\n",
            "There are 0 directories and 1000 images in 'food-101/images/hummus'.\n",
            "There are 0 directories and 1000 images in 'food-101/images/grilled_salmon'.\n",
            "There are 0 directories and 1000 images in 'food-101/images/ravioli'.\n",
            "There are 0 directories and 1000 images in 'food-101/images/tiramisu'.\n",
            "There are 0 directories and 1000 images in 'food-101/images/peking_duck'.\n",
            "There are 0 directories and 1000 images in 'food-101/images/lobster_roll_sandwich'.\n",
            "There are 0 directories and 1000 images in 'food-101/images/tuna_tartare'.\n",
            "There are 0 directories and 1000 images in 'food-101/images/macarons'.\n",
            "There are 0 directories and 1000 images in 'food-101/images/baby_back_ribs'.\n",
            "There are 0 directories and 1000 images in 'food-101/images/sushi'.\n",
            "There are 0 directories and 1000 images in 'food-101/images/pancakes'.\n",
            "There are 0 directories and 1000 images in 'food-101/images/shrimp_and_grits'.\n",
            "There are 0 directories and 1000 images in 'food-101/images/beet_salad'.\n",
            "There are 0 directories and 1000 images in 'food-101/images/baklava'.\n",
            "There are 0 directories and 1000 images in 'food-101/images/greek_salad'.\n",
            "There are 0 directories and 1000 images in 'food-101/images/onion_rings'.\n",
            "There are 0 directories and 1000 images in 'food-101/images/donuts'.\n",
            "There are 0 directories and 1000 images in 'food-101/images/cup_cakes'.\n",
            "There are 0 directories and 1000 images in 'food-101/images/scallops'.\n",
            "There are 0 directories and 1000 images in 'food-101/images/gnocchi'.\n",
            "There are 0 directories and 1000 images in 'food-101/images/apple_pie'.\n",
            "There are 0 directories and 1000 images in 'food-101/images/deviled_eggs'.\n",
            "There are 0 directories and 1000 images in 'food-101/images/panna_cotta'.\n",
            "There are 0 directories and 1000 images in 'food-101/images/ice_cream'.\n",
            "There are 0 directories and 1000 images in 'food-101/images/fried_rice'.\n",
            "There are 0 directories and 1000 images in 'food-101/images/sashimi'.\n",
            "There are 0 directories and 1000 images in 'food-101/images/poutine'.\n",
            "There are 0 directories and 1000 images in 'food-101/images/breakfast_burrito'.\n",
            "There are 0 directories and 1000 images in 'food-101/images/crab_cakes'.\n",
            "There are 0 directories and 1000 images in 'food-101/images/huevos_rancheros'.\n",
            "There are 0 directories and 1000 images in 'food-101/images/paella'.\n",
            "There are 0 directories and 1000 images in 'food-101/images/fish_and_chips'.\n",
            "There are 0 directories and 1000 images in 'food-101/images/risotto'.\n",
            "There are 0 directories and 1000 images in 'food-101/images/bibimbap'.\n",
            "There are 0 directories and 1000 images in 'food-101/images/carrot_cake'.\n",
            "There are 0 directories and 1000 images in 'food-101/images/hot_and_sour_soup'.\n",
            "There are 0 directories and 1000 images in 'food-101/images/lobster_bisque'.\n",
            "There are 0 directories and 1000 images in 'food-101/images/bread_pudding'.\n",
            "There are 0 directories and 1000 images in 'food-101/images/cheese_plate'.\n",
            "There are 0 directories and 1000 images in 'food-101/images/fried_calamari'.\n",
            "There are 0 directories and 1000 images in 'food-101/images/tacos'.\n",
            "There are 0 directories and 1000 images in 'food-101/images/caprese_salad'.\n",
            "There are 0 directories and 1000 images in 'food-101/images/red_velvet_cake'.\n",
            "There are 0 directories and 1000 images in 'food-101/images/filet_mignon'.\n",
            "There are 0 directories and 1000 images in 'food-101/images/french_fries'.\n",
            "There are 0 directories and 1000 images in 'food-101/images/foie_gras'.\n",
            "There are 0 directories and 1000 images in 'food-101/images/ramen'.\n",
            "There are 0 directories and 1000 images in 'food-101/images/oysters'.\n",
            "There are 0 directories and 1000 images in 'food-101/images/spaghetti_bolognese'.\n",
            "There are 0 directories and 1000 images in 'food-101/images/nachos'.\n",
            "There are 0 directories and 1000 images in 'food-101/images/guacamole'.\n",
            "There are 0 directories and 1000 images in 'food-101/images/spaghetti_carbonara'.\n",
            "There are 0 directories and 1000 images in 'food-101/images/edamame'.\n",
            "There are 0 directories and 1000 images in 'food-101/images/samosa'.\n",
            "There are 0 directories and 1000 images in 'food-101/images/gyoza'.\n",
            "There are 0 directories and 1000 images in 'food-101/images/takoyaki'.\n",
            "There are 0 directories and 1000 images in 'food-101/images/lasagna'.\n",
            "There are 0 directories and 1000 images in 'food-101/images/strawberry_shortcake'.\n",
            "There are 0 directories and 1000 images in 'food-101/images/frozen_yogurt'.\n",
            "There are 0 directories and 1000 images in 'food-101/images/beef_carpaccio'.\n",
            "There are 0 directories and 6 images in 'food-101/meta'.\n"
          ]
        }
      ]
    },
    {
      "cell_type": "markdown",
      "source": [
        "Позначаємо папку."
      ],
      "metadata": {
        "id": "Z-80WahDjYga"
      }
    },
    {
      "cell_type": "code",
      "source": [
        "!ls food-101"
      ],
      "metadata": {
        "colab": {
          "base_uri": "https://localhost:8080/"
        },
        "id": "ZkNQ2eSepPM1",
        "outputId": "e5151634-b890-4485-e9be-bb92176d88f6"
      },
      "execution_count": 6,
      "outputs": [
        {
          "output_type": "stream",
          "name": "stdout",
          "text": [
            "images\tlicense_agreement.txt  meta  README.txt  test  train\n"
          ]
        }
      ]
    },
    {
      "cell_type": "markdown",
      "source": [
        "Створюємо необхідні папки для тренування та тестування."
      ],
      "metadata": {
        "id": "NVG-X8Sk_nEn"
      }
    },
    {
      "cell_type": "code",
      "source": [
        "!mkdir food-101/test\n",
        "!mkdir food-101/train\n",
        "!mkdir food-101/test/baby_back_ribs\n",
        "!mkdir food-101/test/donuts\n",
        "!mkdir food-101/test/lobster_roll_sandwich\n",
        "!mkdir food-101/train/baby_back_ribs\n",
        "!mkdir food-101/train/donuts\n",
        "!mkdir food-101/train/lobster_roll_sandwich\n"
      ],
      "metadata": {
        "colab": {
          "base_uri": "https://localhost:8080/"
        },
        "id": "v6ILgF7VtWPz",
        "outputId": "c92f660c-7cd0-4f70-dd30-776a4284ba1d"
      },
      "execution_count": 5,
      "outputs": [
        {
          "output_type": "stream",
          "name": "stdout",
          "text": [
            "mkdir: cannot create directory ‘food-101/test’: File exists\n",
            "mkdir: cannot create directory ‘food-101/train’: File exists\n",
            "mkdir: cannot create directory ‘food-101/test/baby_back_ribs’: File exists\n"
          ]
        }
      ]
    },
    {
      "cell_type": "markdown",
      "source": [
        "Знаходимо необхідні нам класи."
      ],
      "metadata": {
        "id": "DkHaAR4D_tYl"
      }
    },
    {
      "cell_type": "code",
      "source": [
        "file = open('food-101/meta/classes.txt')\n",
        "\n",
        "line_numbers = [1, 31, 61]\n",
        "    \n",
        "lines = []\n",
        "for i, line in enumerate(file):\n",
        "        \n",
        "  if i in line_numbers:\n",
        "    lines.append(line.strip())\n",
        "print(lines)"
      ],
      "metadata": {
        "colab": {
          "base_uri": "https://localhost:8080/"
        },
        "id": "dZGEbHWytgal",
        "outputId": "2ba4c0a6-1fa3-43c3-bd5f-a5d43f6065c9"
      },
      "execution_count": 7,
      "outputs": [
        {
          "output_type": "stream",
          "name": "stdout",
          "text": [
            "['baby_back_ribs', 'donuts', 'lobster_roll_sandwich']\n"
          ]
        }
      ]
    },
    {
      "cell_type": "markdown",
      "source": [
        "Копіюємо необхідні фото в папки для тренування та навчання."
      ],
      "metadata": {
        "id": "LgsmtXul_xQb"
      }
    },
    {
      "cell_type": "code",
      "source": [
        "import shutil\n",
        "file = open('food-101/meta/train.txt')\n",
        "for i in file:\n",
        "  dir = i.split(\"/\")\n",
        "  if (dir[0] == 'baby_back_ribs'):\n",
        "    shutil.copy('food-101/images/'+i.replace('\\n','') +'.jpg', 'food-101/train/baby_back_ribs')\n",
        "  elif(dir[0] == 'donuts'):\n",
        "    shutil.copy('food-101/images/'+i.replace('\\n','') +'.jpg', 'food-101/train/donuts')\n",
        "  elif(dir[0] == 'lobster_roll_sandwich'):\n",
        "    shutil.copy('food-101/images/'+i.replace('\\n','') +'.jpg', 'food-101/train/lobster_roll_sandwich')"
      ],
      "metadata": {
        "id": "qvhYvTbojlny"
      },
      "execution_count": 7,
      "outputs": []
    },
    {
      "cell_type": "code",
      "source": [
        "import shutil\n",
        "file = open('food-101/meta/test.txt')\n",
        "for i in file:\n",
        "  dir = i.split(\"/\")\n",
        "  if (dir[0] == 'baby_back_ribs'):\n",
        "    shutil.copy('food-101/images/'+i.replace('\\n','') +'.jpg', 'food-101/test/baby_back_ribs')\n",
        "  elif(dir[0] == 'donuts'):\n",
        "    shutil.copy('food-101/images/'+i.replace('\\n','') +'.jpg', 'food-101/test/donuts')\n",
        "  elif(dir[0] == 'lobster_roll_sandwich'):\n",
        "    shutil.copy('food-101/images/'+i.replace('\\n','') +'.jpg', 'food-101/test/lobster_roll_sandwich')"
      ],
      "metadata": {
        "id": "C58iJuw1Vg5G"
      },
      "execution_count": 8,
      "outputs": []
    },
    {
      "cell_type": "code",
      "source": [
        "!ls food-101/test"
      ],
      "metadata": {
        "id": "NcJBwr5evjZ0"
      },
      "execution_count": null,
      "outputs": []
    },
    {
      "cell_type": "markdown",
      "source": [
        "Позначаємо тренувальні та тестувальні папки."
      ],
      "metadata": {
        "id": "bbEp9xko_3wf"
      }
    },
    {
      "cell_type": "code",
      "source": [
        "test_dir = 'food-101/test'\n",
        "train_dir = 'food-101/train'"
      ],
      "metadata": {
        "id": "VeF9hf0ga14H"
      },
      "execution_count": 10,
      "outputs": []
    },
    {
      "cell_type": "code",
      "source": [
        "import pathlib\n",
        "import numpy as np\n",
        "data_dir = pathlib.Path(train_dir)\n",
        "class_names = np.array(sorted([item.name for item in data_dir.glob('*')]))\n",
        "print(class_names)"
      ],
      "metadata": {
        "colab": {
          "base_uri": "https://localhost:8080/"
        },
        "id": "_ywKe2QQbkAd",
        "outputId": "acfd32c7-bbc8-4a02-fe27-f31d9ed7b6fe"
      },
      "execution_count": 11,
      "outputs": [
        {
          "output_type": "stream",
          "name": "stdout",
          "text": [
            "['baby_back_ribs' 'donuts' 'lobster_roll_sandwich']\n"
          ]
        }
      ]
    },
    {
      "cell_type": "markdown",
      "source": [
        "Перетворюємо зображення у набори даних."
      ],
      "metadata": {
        "id": "T8q7K_huAO6_"
      }
    },
    {
      "cell_type": "code",
      "source": [
        "from tensorflow.keras.preprocessing.image import ImageDataGenerator\n",
        "\n",
        "train_datagen = ImageDataGenerator(rescale=1/255.)\n",
        "test_datagen = ImageDataGenerator(rescale=1/255.)\n",
        "\n",
        "train_data = train_datagen.flow_from_directory(train_dir,\n",
        "                                               target_size=(224, 224),\n",
        "                                               batch_size=32,\n",
        "                                               class_mode='categorical')\n",
        "\n",
        "test_data = train_datagen.flow_from_directory(test_dir,\n",
        "                                              target_size=(224, 224),\n",
        "                                              batch_size=32,\n",
        "                                              class_mode='categorical')"
      ],
      "metadata": {
        "colab": {
          "base_uri": "https://localhost:8080/"
        },
        "id": "Z_CYppUpbQj7",
        "outputId": "7774247b-ecf1-4df6-d8db-5514128fe344"
      },
      "execution_count": 12,
      "outputs": [
        {
          "output_type": "stream",
          "name": "stdout",
          "text": [
            "Found 2250 images belonging to 3 classes.\n",
            "Found 750 images belonging to 3 classes.\n"
          ]
        }
      ]
    },
    {
      "cell_type": "markdown",
      "source": [
        "Змінюємо зображення для кращого навчання."
      ],
      "metadata": {
        "id": "hE5THVZGAbXL"
      }
    },
    {
      "cell_type": "code",
      "source": [
        "train_datagen_augmented = ImageDataGenerator(rescale=1/255.,\n",
        "                                             rotation_range=20,\n",
        "                                             width_shift_range=0.2,\n",
        "                                             height_shift_range=0.2,\n",
        "                                             zoom_range=0.2,\n",
        "                                             horizontal_flip=True)\n",
        "\n",
        "train_data_augmented = train_datagen_augmented.flow_from_directory(train_dir,\n",
        "                                                                  target_size=(224, 224),\n",
        "                                                                  batch_size=32,\n",
        "                                                                  class_mode='categorical')"
      ],
      "metadata": {
        "colab": {
          "base_uri": "https://localhost:8080/"
        },
        "id": "1UzxLBx8eS7l",
        "outputId": "5d336ba5-5712-476f-8c45-31927912b0b1"
      },
      "execution_count": 13,
      "outputs": [
        {
          "output_type": "stream",
          "name": "stdout",
          "text": [
            "Found 2250 images belonging to 3 classes.\n"
          ]
        }
      ]
    },
    {
      "cell_type": "markdown",
      "source": [
        "Навчаємо мережу."
      ],
      "metadata": {
        "id": "vz4xnLULAi33"
      }
    },
    {
      "cell_type": "code",
      "source": [
        "import tensorflow as tf\n",
        "from tensorflow.keras.models import Sequential\n",
        "from tensorflow.keras.layers import Conv2D, MaxPool2D, Flatten, Dense\n",
        "\n",
        "model_11 = Sequential([\n",
        "  Conv2D(32, 3, activation='relu', input_shape=(224, 224, 3)),\n",
        "  MaxPool2D(),\n",
        "  Dense(128, activation='relu'),\n",
        "  Conv2D(64, 3, activation='relu'),\n",
        "  MaxPool2D(),\n",
        "  Flatten(),\n",
        "  Dense(3, activation='softmax')\n",
        "])\n",
        "\n",
        "model_11.compile(loss=\"categorical_crossentropy\",\n",
        "              optimizer=tf.keras.optimizers.Adam(),\n",
        "              metrics=[\"accuracy\"])\n",
        "\n",
        "history_11 = model_11.fit(train_data_augmented,\n",
        "                          epochs=50,\n",
        "                          steps_per_epoch=len(train_data_augmented),\n",
        "                          validation_data=test_data,\n",
        "                          validation_steps=len(test_data))"
      ],
      "metadata": {
        "colab": {
          "base_uri": "https://localhost:8080/"
        },
        "id": "UF2m5dBkeElX",
        "outputId": "ffa00a46-5183-42b0-8dac-57b7dd951200"
      },
      "execution_count": 44,
      "outputs": [
        {
          "output_type": "stream",
          "name": "stdout",
          "text": [
            "Epoch 1/50\n",
            "71/71 [==============================] - 36s 490ms/step - loss: 1.1510 - accuracy: 0.4080 - val_loss: 0.9701 - val_accuracy: 0.4853\n",
            "Epoch 2/50\n",
            "71/71 [==============================] - 34s 485ms/step - loss: 1.0124 - accuracy: 0.4951 - val_loss: 0.9755 - val_accuracy: 0.5440\n",
            "Epoch 3/50\n",
            "71/71 [==============================] - 35s 486ms/step - loss: 0.9432 - accuracy: 0.5476 - val_loss: 0.8808 - val_accuracy: 0.5973\n",
            "Epoch 4/50\n",
            "71/71 [==============================] - 34s 484ms/step - loss: 0.8960 - accuracy: 0.5911 - val_loss: 0.7916 - val_accuracy: 0.6400\n",
            "Epoch 5/50\n",
            "71/71 [==============================] - 34s 482ms/step - loss: 0.8233 - accuracy: 0.6147 - val_loss: 0.9663 - val_accuracy: 0.5680\n",
            "Epoch 7/50\n",
            "71/71 [==============================] - 35s 488ms/step - loss: 0.7709 - accuracy: 0.6520 - val_loss: 0.7354 - val_accuracy: 0.6853\n",
            "Epoch 8/50\n",
            "71/71 [==============================] - 35s 486ms/step - loss: 0.7718 - accuracy: 0.6502 - val_loss: 0.7779 - val_accuracy: 0.6493\n",
            "Epoch 9/50\n",
            "71/71 [==============================] - 34s 483ms/step - loss: 0.7580 - accuracy: 0.6653 - val_loss: 0.8598 - val_accuracy: 0.6613\n",
            "Epoch 10/50\n",
            "71/71 [==============================] - 35s 492ms/step - loss: 0.7470 - accuracy: 0.6738 - val_loss: 0.7569 - val_accuracy: 0.6933\n",
            "Epoch 11/50\n",
            "71/71 [==============================] - 34s 490ms/step - loss: 0.7232 - accuracy: 0.6778 - val_loss: 0.6570 - val_accuracy: 0.7267\n",
            "Epoch 12/50\n",
            "71/71 [==============================] - 34s 485ms/step - loss: 0.7029 - accuracy: 0.7062 - val_loss: 0.7124 - val_accuracy: 0.7027\n",
            "Epoch 13/50\n",
            "71/71 [==============================] - 34s 484ms/step - loss: 0.6883 - accuracy: 0.6969 - val_loss: 0.9002 - val_accuracy: 0.6827\n",
            "Epoch 14/50\n",
            "71/71 [==============================] - 34s 484ms/step - loss: 0.6830 - accuracy: 0.7013 - val_loss: 0.6345 - val_accuracy: 0.7333\n",
            "Epoch 15/50\n",
            "71/71 [==============================] - 34s 482ms/step - loss: 0.6545 - accuracy: 0.7084 - val_loss: 0.6582 - val_accuracy: 0.7333\n",
            "Epoch 16/50\n",
            "71/71 [==============================] - 35s 491ms/step - loss: 0.6528 - accuracy: 0.7173 - val_loss: 0.6006 - val_accuracy: 0.7747\n",
            "Epoch 17/50\n",
            "71/71 [==============================] - 35s 486ms/step - loss: 0.6507 - accuracy: 0.7284 - val_loss: 0.7644 - val_accuracy: 0.7067\n",
            "Epoch 18/50\n",
            "71/71 [==============================] - 34s 486ms/step - loss: 0.6367 - accuracy: 0.7369 - val_loss: 0.6646 - val_accuracy: 0.7480\n",
            "Epoch 19/50\n",
            "71/71 [==============================] - 35s 489ms/step - loss: 0.6527 - accuracy: 0.7102 - val_loss: 0.5720 - val_accuracy: 0.7733\n",
            "Epoch 20/50\n",
            "71/71 [==============================] - 34s 484ms/step - loss: 0.6276 - accuracy: 0.7427 - val_loss: 0.6055 - val_accuracy: 0.7733\n",
            "Epoch 21/50\n",
            "71/71 [==============================] - 34s 484ms/step - loss: 0.6471 - accuracy: 0.7249 - val_loss: 0.6036 - val_accuracy: 0.7720\n",
            "Epoch 22/50\n",
            "71/71 [==============================] - 35s 487ms/step - loss: 0.6201 - accuracy: 0.7524 - val_loss: 0.6116 - val_accuracy: 0.7853\n",
            "Epoch 23/50\n",
            "71/71 [==============================] - 35s 491ms/step - loss: 0.6098 - accuracy: 0.7427 - val_loss: 0.6561 - val_accuracy: 0.7493\n",
            "Epoch 24/50\n",
            "71/71 [==============================] - 34s 485ms/step - loss: 0.6139 - accuracy: 0.7489 - val_loss: 0.6186 - val_accuracy: 0.7547\n",
            "Epoch 25/50\n",
            "71/71 [==============================] - 34s 485ms/step - loss: 0.6139 - accuracy: 0.7489 - val_loss: 0.6283 - val_accuracy: 0.7707\n",
            "Epoch 26/50\n",
            "71/71 [==============================] - 34s 483ms/step - loss: 0.6446 - accuracy: 0.7351 - val_loss: 0.8334 - val_accuracy: 0.7187\n",
            "Epoch 27/50\n",
            "71/71 [==============================] - 34s 484ms/step - loss: 0.5974 - accuracy: 0.7564 - val_loss: 0.6427 - val_accuracy: 0.7653\n",
            "Epoch 28/50\n",
            "71/71 [==============================] - 34s 485ms/step - loss: 0.5970 - accuracy: 0.7533 - val_loss: 0.7105 - val_accuracy: 0.7533\n",
            "Epoch 29/50\n",
            "71/71 [==============================] - 35s 488ms/step - loss: 0.5689 - accuracy: 0.7680 - val_loss: 0.7487 - val_accuracy: 0.7547\n",
            "Epoch 30/50\n",
            "71/71 [==============================] - 35s 487ms/step - loss: 0.5738 - accuracy: 0.7622 - val_loss: 0.6336 - val_accuracy: 0.7547\n",
            "Epoch 31/50\n",
            "71/71 [==============================] - 35s 487ms/step - loss: 0.5702 - accuracy: 0.7751 - val_loss: 0.7878 - val_accuracy: 0.7213\n",
            "Epoch 32/50\n",
            "71/71 [==============================] - 35s 491ms/step - loss: 0.5646 - accuracy: 0.7684 - val_loss: 0.5831 - val_accuracy: 0.7747\n",
            "Epoch 33/50\n",
            "71/71 [==============================] - 35s 487ms/step - loss: 0.5887 - accuracy: 0.7649 - val_loss: 0.6347 - val_accuracy: 0.7907\n",
            "Epoch 34/50\n",
            "71/71 [==============================] - 35s 495ms/step - loss: 0.5758 - accuracy: 0.7671 - val_loss: 0.5433 - val_accuracy: 0.7947\n",
            "Epoch 35/50\n",
            "71/71 [==============================] - 35s 486ms/step - loss: 0.5623 - accuracy: 0.7671 - val_loss: 0.7428 - val_accuracy: 0.7587\n",
            "Epoch 36/50\n",
            "71/71 [==============================] - 35s 488ms/step - loss: 0.5707 - accuracy: 0.7764 - val_loss: 0.6293 - val_accuracy: 0.7773\n",
            "Epoch 37/50\n",
            "71/71 [==============================] - 35s 489ms/step - loss: 0.5405 - accuracy: 0.7889 - val_loss: 0.8304 - val_accuracy: 0.7507\n",
            "Epoch 38/50\n",
            "71/71 [==============================] - 35s 490ms/step - loss: 0.5377 - accuracy: 0.7898 - val_loss: 0.8267 - val_accuracy: 0.7333\n",
            "Epoch 39/50\n",
            "71/71 [==============================] - 35s 488ms/step - loss: 0.5742 - accuracy: 0.7809 - val_loss: 0.7137 - val_accuracy: 0.7507\n",
            "Epoch 40/50\n",
            "71/71 [==============================] - 35s 486ms/step - loss: 0.5460 - accuracy: 0.7836 - val_loss: 0.7036 - val_accuracy: 0.7680\n",
            "Epoch 41/50\n",
            "71/71 [==============================] - 34s 484ms/step - loss: 0.5269 - accuracy: 0.7907 - val_loss: 0.7784 - val_accuracy: 0.7560\n",
            "Epoch 42/50\n",
            "71/71 [==============================] - 35s 490ms/step - loss: 0.5399 - accuracy: 0.7853 - val_loss: 0.6214 - val_accuracy: 0.7960\n",
            "Epoch 43/50\n",
            "71/71 [==============================] - 35s 487ms/step - loss: 0.5514 - accuracy: 0.7871 - val_loss: 0.6102 - val_accuracy: 0.7880\n",
            "Epoch 44/50\n",
            "71/71 [==============================] - 34s 484ms/step - loss: 0.5391 - accuracy: 0.7964 - val_loss: 0.6513 - val_accuracy: 0.7867\n",
            "Epoch 45/50\n",
            "71/71 [==============================] - 35s 488ms/step - loss: 0.5200 - accuracy: 0.7924 - val_loss: 0.6458 - val_accuracy: 0.7853\n",
            "Epoch 46/50\n",
            "71/71 [==============================] - 35s 486ms/step - loss: 0.5760 - accuracy: 0.7622 - val_loss: 0.6816 - val_accuracy: 0.7760\n",
            "Epoch 47/50\n",
            "71/71 [==============================] - 34s 484ms/step - loss: 0.5322 - accuracy: 0.7836 - val_loss: 0.8236 - val_accuracy: 0.7480\n",
            "Epoch 48/50\n",
            "71/71 [==============================] - 34s 485ms/step - loss: 0.5196 - accuracy: 0.7956 - val_loss: 0.6023 - val_accuracy: 0.8080\n",
            "Epoch 49/50\n",
            "71/71 [==============================] - 34s 484ms/step - loss: 0.5244 - accuracy: 0.7947 - val_loss: 0.5804 - val_accuracy: 0.8107\n",
            "Epoch 50/50\n",
            "71/71 [==============================] - 34s 485ms/step - loss: 0.5347 - accuracy: 0.7973 - val_loss: 0.5415 - val_accuracy: 0.8147\n"
          ]
        }
      ]
    },
    {
      "cell_type": "code",
      "source": [
        "model_11.save('model2.hdf5')"
      ],
      "metadata": {
        "id": "sS9tHm24D1n1"
      },
      "execution_count": 50,
      "outputs": []
    },
    {
      "cell_type": "markdown",
      "source": [
        "Побудуємо графіки."
      ],
      "metadata": {
        "id": "lJ0DJAi2DVPN"
      }
    },
    {
      "cell_type": "code",
      "source": [
        "import matplotlib.pyplot as plt\n",
        "\n",
        "def plot_loss_curves(history):\n",
        "  \"\"\"\n",
        "  Returns separate loss curves for training and validation metrics.\n",
        "  \"\"\" \n",
        "  loss = history.history['loss']\n",
        "  val_loss = history.history['val_loss']\n",
        "\n",
        "  accuracy = history.history['accuracy']\n",
        "  val_accuracy = history.history['val_accuracy']\n",
        "\n",
        "  epochs = range(len(history.history['loss']))\n",
        "\n",
        "  plt.plot(epochs, loss, label='training_loss')\n",
        "  plt.plot(epochs, val_loss, label='val_loss')\n",
        "  plt.title('Loss')\n",
        "  plt.xlabel('Epochs')\n",
        "  plt.legend()\n",
        "\n",
        "  plt.figure()\n",
        "  plt.plot(epochs, accuracy, label='training_accuracy')\n",
        "  plt.plot(epochs, val_accuracy, label='val_accuracy')\n",
        "  plt.title('Accuracy')\n",
        "  plt.xlabel('Epochs')\n",
        "  plt.legend();"
      ],
      "metadata": {
        "id": "zFYnhPnRDAb5"
      },
      "execution_count": 48,
      "outputs": []
    },
    {
      "cell_type": "code",
      "source": [
        "plot_loss_curves(history_11)"
      ],
      "metadata": {
        "colab": {
          "base_uri": "https://localhost:8080/",
          "height": 573
        },
        "id": "Xf5tSDuRoW1b",
        "outputId": "63449d2e-57b3-4a4f-ba56-20972d0a38f7"
      },
      "execution_count": 49,
      "outputs": [
        {
          "output_type": "display_data",
          "data": {
            "text/plain": [
              "<Figure size 432x288 with 1 Axes>"
            ],
            "image/png": "[encoded data removed]"
          },
          "metadata": {
            "needs_background": "light"
          }
        },
        {
          "output_type": "display_data",
          "data": {
            "text/plain": [
              "<Figure size 432x288 with 1 Axes>"
            ],
            "image/png": "[encoded data removed]"
          },
          "metadata": {
            "needs_background": "light"
          }
        }
      ]
    },
    {
      "cell_type": "markdown",
      "source": [
        "Висновок: у цій лабораторній роботі я навчився працювати з зображеннями, перетворювати їх для роботи з нейромережею, працювати з моделями для обробки зображень."
      ],
      "metadata": {
        "id": "ZtuNK89WDeI9"
      }
    }
  ]
}