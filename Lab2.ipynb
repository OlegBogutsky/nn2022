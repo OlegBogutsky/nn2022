{
  "nbformat": 4,
  "nbformat_minor": 0,
  "metadata": {
    "colab": {
      "name": "Lab2.ipynb",
      "provenance": [],
      "authorship_tag": "ABX9TyOD0HOd/ok6lf6k6RuiDqAI",
      "include_colab_link": true
    },
    "kernelspec": {
      "name": "python3",
      "display_name": "Python 3"
    },
    "language_info": {
      "name": "python"
    }
  },
  "cells": [
    {
      "cell_type": "markdown",
      "metadata": {
        "id": "view-in-github",
        "colab_type": "text"
      },
      "source": [
        "<a href=\"https://colab.research.google.com/github/OlegBogutsky/nn2022/blob/main/Lab2.ipynb\" target=\"_parent\"><img src=\"https://colab.research.google.com/assets/colab-badge.svg\" alt=\"Open In Colab\"/></a>"
      ]
    },
    {
      "cell_type": "markdown",
      "source": [
        "#**Лабораторна робота № 2**\n",
        "---\n",
        "##Виконав Богуцький Олег, КН-31\n",
        "#TensorFlow\n",
        "Завдання:\n",
        "За матеріалами ознайомитись із засадами бібліотеки TensorFlow:\n",
        "- засвоєння поняття тензору\n",
        "- знати різні способи створення тензорів\n",
        "- створити набір даних із заданим розподілом (розподіл та розмір за власним рішенням), визначити його властивості (shape, rank, size, axis)\n",
        "- продемонструвати основні математичні операції над тензорами\n",
        "- провести CRUD операції над даними, reshape, інтеграцію з np.array, pd.DataFrame)\n",
        "Відповіді оформити .ipynb документами за кожним з попередніх пунктів\n",
        "Викласти у зазначений репозіторій GitHub в окремій папці з назвою Lab2 де мають бути .ipynb файл та необхідні файли з даними\n",
        "---\n",
        "#Хід роботи"
      ],
      "metadata": {
        "id": "LGBcwre5sx7C"
      }
    },
    {
      "cell_type": "markdown",
      "source": [
        "Завдання 1. Імпорт бібліотеки і перевірка працездатності."
      ],
      "metadata": {
        "id": "L_5XarUCtabl"
      }
    },
    {
      "cell_type": "code",
      "execution_count": 1,
      "metadata": {
        "colab": {
          "base_uri": "https://localhost:8080/"
        },
        "id": "USbd-teDsthB",
        "outputId": "332c0ae2-0fb8-4f55-9536-961840f953ff"
      },
      "outputs": [
        {
          "output_type": "stream",
          "name": "stdout",
          "text": [
            "2.8.0\n"
          ]
        }
      ],
      "source": [
        "import tensorflow as tf\n",
        "print(tf.__version__)"
      ]
    },
    {
      "cell_type": "markdown",
      "source": [
        "Завдання 2. Створення Tensor за допомогою tf.constant()"
      ],
      "metadata": {
        "id": "z9G8db8HuWjr"
      }
    },
    {
      "cell_type": "code",
      "source": [
        "scalar = tf.constant(1)\n",
        "print(scalar)\n",
        "\n",
        "vector = tf.constant([1, 2])\n",
        "print(vector)\n",
        "\n",
        "matrix = tf.constant([[1, 2],\n",
        "                      [3, 4]])\n",
        "print(matrix)\n",
        "\n",
        "tensor = tf.constant([[[1, 2, 3],\n",
        "                       [4, 5, 6]],\n",
        "                      [[7, 8, 9],\n",
        "                       [10, 11, 12]],\n",
        "                      [[13, 14, 15],\n",
        "                       [16, 17, 18]]])\n",
        "print(tensor)"
      ],
      "metadata": {
        "colab": {
          "base_uri": "https://localhost:8080/"
        },
        "id": "DF75RT6nukPF",
        "outputId": "e3f3c8c7-dbcc-43e7-af4b-3141e5843316"
      },
      "execution_count": 6,
      "outputs": [
        {
          "output_type": "stream",
          "name": "stdout",
          "text": [
            "tf.Tensor(1, shape=(), dtype=int32)\n",
            "tf.Tensor([1 2], shape=(2,), dtype=int32)\n",
            "tf.Tensor(\n",
            "[[1 2]\n",
            " [3 4]], shape=(2, 2), dtype=int32)\n",
            "tf.Tensor(\n",
            "[[[ 1  2  3]\n",
            "  [ 4  5  6]]\n",
            "\n",
            " [[ 7  8  9]\n",
            "  [10 11 12]]\n",
            "\n",
            " [[13 14 15]\n",
            "  [16 17 18]]], shape=(3, 2, 3), dtype=int32)\n"
          ]
        }
      ]
    },
    {
      "cell_type": "markdown",
      "source": [
        "Завдання 3. Створення Tensor за допомогою tf.Variable()"
      ],
      "metadata": {
        "id": "ZdAeEeDvvOHD"
      }
    },
    {
      "cell_type": "code",
      "source": [
        "tensor = tf.Variable([10, 7])\n",
        "print(tensor)"
      ],
      "metadata": {
        "colab": {
          "base_uri": "https://localhost:8080/"
        },
        "id": "n8yLAQoRvVD5",
        "outputId": "c283b58e-0793-4388-de21-0f836070bad7"
      },
      "execution_count": 7,
      "outputs": [
        {
          "output_type": "stream",
          "name": "stdout",
          "text": [
            "<tf.Variable 'Variable:0' shape=(2,) dtype=int32, numpy=array([10,  7], dtype=int32)>\n"
          ]
        }
      ]
    },
    {
      "cell_type": "markdown",
      "source": [
        "Завдання 4. Створення випадкових Tensor."
      ],
      "metadata": {
        "id": "gzxSIFZfv07i"
      }
    },
    {
      "cell_type": "code",
      "source": [
        "random = tf.random.Generator.from_seed(1)\n",
        "random = random.normal(shape=(10, 10))\n",
        "print(random)"
      ],
      "metadata": {
        "colab": {
          "base_uri": "https://localhost:8080/"
        },
        "id": "kcCfyS8Wv5Kk",
        "outputId": "c87427b3-913b-4d63-dc81-8b3f0f765d3e"
      },
      "execution_count": 9,
      "outputs": [
        {
          "output_type": "stream",
          "name": "stdout",
          "text": [
            "tf.Tensor(\n",
            "[[ 0.43842274 -0.53439844 -0.07710262  1.5658046  -0.1012345  -0.2744976\n",
            "   1.4204658   1.2609464  -0.43640924 -1.9633987 ]\n",
            " [-0.06452483 -1.056841    1.0019137   0.6735137   0.06987712 -1.4077919\n",
            "   1.0278524   0.27974114 -0.01347923  1.845181  ]\n",
            " [ 0.97061104 -1.0242516  -0.6544423  -0.29738766 -1.3240396   0.28785667\n",
            "  -0.8757901  -0.08857018  0.69211644  0.84215707]\n",
            " [-0.06378496  0.92800784 -0.6039789  -0.1766927   0.04221033  0.29037967\n",
            "  -0.29604465 -0.21134205  0.01063002  1.5165398 ]\n",
            " [ 0.27305737 -0.29925638 -0.3652325   0.61883307 -1.0130816   0.28291714\n",
            "   1.2132233   0.46988967  0.37944323 -0.6664026 ]\n",
            " [ 0.6054596   0.19181173  0.8045827   0.4769051  -0.7812124  -0.996891\n",
            "   0.33149973 -0.5445254   1.5222508   0.59303206]\n",
            " [-0.63509274  0.3703566  -1.0939722  -0.4601445   1.5420506  -0.16822556\n",
            "  -0.4390865  -0.4129243   0.35877243 -1.9095894 ]\n",
            " [-0.2094769   0.8286217  -0.06695071 -0.35105535  1.0884082  -1.3863064\n",
            "   0.88051325 -1.6833194   0.86754173 -0.19625713]\n",
            " [-1.322665   -0.02279496 -0.1383193   0.44207528 -0.7531523   2.0261486\n",
            "  -0.06997604  0.85445154  0.1175475   0.03493892]\n",
            " [-1.5700307   0.4457582   0.10944034 -0.8035768  -1.7166729   0.3738578\n",
            "  -0.14371012 -0.34646833  1.1456194  -0.416     ]], shape=(10, 10), dtype=float32)\n"
          ]
        }
      ]
    },
    {
      "cell_type": "markdown",
      "source": [
        "Завдання 5. Створення Tensor з нолями та одиницями."
      ],
      "metadata": {
        "id": "jMPY4LEUwIhJ"
      }
    },
    {
      "cell_type": "code",
      "source": [
        "print(tf.ones(shape=(5, 5)))\n",
        "print(tf.zeros(shape=(10, 10)))"
      ],
      "metadata": {
        "colab": {
          "base_uri": "https://localhost:8080/"
        },
        "id": "hxlccjkvwPbJ",
        "outputId": "969f9dd2-f689-42c1-bd28-001411875c94"
      },
      "execution_count": 11,
      "outputs": [
        {
          "output_type": "stream",
          "name": "stdout",
          "text": [
            "tf.Tensor(\n",
            "[[1. 1. 1. 1. 1.]\n",
            " [1. 1. 1. 1. 1.]\n",
            " [1. 1. 1. 1. 1.]\n",
            " [1. 1. 1. 1. 1.]\n",
            " [1. 1. 1. 1. 1.]], shape=(5, 5), dtype=float32)\n",
            "tf.Tensor(\n",
            "[[0. 0. 0. 0. 0. 0. 0. 0. 0. 0.]\n",
            " [0. 0. 0. 0. 0. 0. 0. 0. 0. 0.]\n",
            " [0. 0. 0. 0. 0. 0. 0. 0. 0. 0.]\n",
            " [0. 0. 0. 0. 0. 0. 0. 0. 0. 0.]\n",
            " [0. 0. 0. 0. 0. 0. 0. 0. 0. 0.]\n",
            " [0. 0. 0. 0. 0. 0. 0. 0. 0. 0.]\n",
            " [0. 0. 0. 0. 0. 0. 0. 0. 0. 0.]\n",
            " [0. 0. 0. 0. 0. 0. 0. 0. 0. 0.]\n",
            " [0. 0. 0. 0. 0. 0. 0. 0. 0. 0.]\n",
            " [0. 0. 0. 0. 0. 0. 0. 0. 0. 0.]], shape=(10, 10), dtype=float32)\n"
          ]
        }
      ]
    },
    {
      "cell_type": "markdown",
      "source": [
        "Завдання 6. Shape, size, rank."
      ],
      "metadata": {
        "id": "Lxou87GwUb_i"
      }
    },
    {
      "cell_type": "code",
      "source": [
        "random = tf.random.Generator.from_seed(1)\n",
        "random = random.normal(shape=(10, 20))\n",
        "print(random.shape)\n",
        "print(random.ndim)\n",
        "print(tf.size(random))"
      ],
      "metadata": {
        "colab": {
          "base_uri": "https://localhost:8080/"
        },
        "id": "gqs6LlYnUmAJ",
        "outputId": "ba8b74cb-f1ce-4340-9372-b1ce2712f5fb"
      },
      "execution_count": 16,
      "outputs": [
        {
          "output_type": "stream",
          "name": "stdout",
          "text": [
            "(10, 20)\n",
            "2\n",
            "tf.Tensor(200, shape=(), dtype=int32)\n"
          ]
        }
      ]
    },
    {
      "cell_type": "markdown",
      "source": [
        "Завдання 7. Математичні операції."
      ],
      "metadata": {
        "id": "EEcnoWxfVj8d"
      }
    },
    {
      "cell_type": "code",
      "source": [
        "random = tf.random.Generator.from_seed(1)\n",
        "random = random.normal(shape=(2,2))\n",
        "print(random)\n",
        "print(random+10)\n",
        "print(random-10)\n",
        "print(random*10)\n",
        "print(random/10)\n",
        "\n",
        "print(random @ random)\n",
        "print(tf.matmul(random, random))\n",
        "\n",
        "random1 = tf.random.Generator.from_seed(1)\n",
        "random1 = random1.normal(shape=(2,3))\n",
        "random2 = tf.random.Generator.from_seed(1)\n",
        "random2 = random2.normal(shape=(3,2))\n",
        "\n",
        "print(random1)\n",
        "print(random2)\n",
        "print(tf.tensordot(random1,random2, axes=1))\n",
        "\n"
      ],
      "metadata": {
        "colab": {
          "base_uri": "https://localhost:8080/"
        },
        "id": "Ig2PDgo8VjwA",
        "outputId": "cd047cad-8072-4405-c359-60b6e40f7876"
      },
      "execution_count": 25,
      "outputs": [
        {
          "output_type": "stream",
          "name": "stdout",
          "text": [
            "tf.Tensor(\n",
            "[[ 0.43842274 -0.53439844]\n",
            " [-0.07710262  1.5658046 ]], shape=(2, 2), dtype=float32)\n",
            "tf.Tensor(\n",
            "[[10.438423   9.465602 ]\n",
            " [ 9.922897  11.5658045]], shape=(2, 2), dtype=float32)\n",
            "tf.Tensor(\n",
            "[[ -9.561577  -10.534398 ]\n",
            " [-10.077103   -8.4341955]], shape=(2, 2), dtype=float32)\n",
            "tf.Tensor(\n",
            "[[ 4.3842273  -5.3439846 ]\n",
            " [-0.77102613 15.658046  ]], shape=(2, 2), dtype=float32)\n",
            "tf.Tensor(\n",
            "[[ 0.04384227 -0.05343984]\n",
            " [-0.00771026  0.15658046]], shape=(2, 2), dtype=float32)\n",
            "tf.Tensor(\n",
            "[[ 0.23341802 -1.0710559 ]\n",
            " [-0.15453117  2.4929476 ]], shape=(2, 2), dtype=float32)\n",
            "tf.Tensor(\n",
            "[[ 0.23341802 -1.0710559 ]\n",
            " [-0.15453117  2.4929476 ]], shape=(2, 2), dtype=float32)\n",
            "tf.Tensor(\n",
            "[[ 0.43842274 -0.53439844 -0.07710262]\n",
            " [ 1.5658046  -0.1012345  -0.2744976 ]], shape=(2, 3), dtype=float32)\n",
            "tf.Tensor(\n",
            "[[ 0.43842274 -0.53439844]\n",
            " [-0.07710262  1.5658046 ]\n",
            " [-0.1012345  -0.2744976 ]], shape=(3, 2), dtype=float32)\n",
            "tf.Tensor(\n",
            "[[ 0.24122347 -1.0498914 ]\n",
            " [ 0.72207844 -0.919928  ]], shape=(2, 2), dtype=float32)\n"
          ]
        }
      ]
    },
    {
      "cell_type": "markdown",
      "source": [
        "Завдання 8. CRUD операції."
      ],
      "metadata": {
        "id": "euW1-mm6XnpS"
      }
    },
    {
      "cell_type": "code",
      "source": [
        "tensor = tf.Variable([10, 7])\n",
        "print(tensor)\n",
        "\n",
        "\n",
        "print(tensor[1])\n",
        "\n",
        "\n",
        "tensor[1].assign(10)\n",
        "print(tensor)\n",
        "\n",
        "tensor = tf.Variable([[10, 7],[2,5]])\n",
        "print(tensor)\n",
        "\n",
        "\n",
        "print(tensor[1])\n",
        "\n",
        "\n",
        "tensor[1].assign([10,2])\n",
        "print(tensor)"
      ],
      "metadata": {
        "colab": {
          "base_uri": "https://localhost:8080/"
        },
        "id": "XxJOpEP9XsDh",
        "outputId": "5d31bef8-cdd5-4da6-fe49-d182e3a45598"
      },
      "execution_count": 41,
      "outputs": [
        {
          "output_type": "stream",
          "name": "stdout",
          "text": [
            "<tf.Variable 'Variable:0' shape=(2,) dtype=int32, numpy=array([10,  7], dtype=int32)>\n",
            "tf.Tensor(7, shape=(), dtype=int32)\n",
            "<tf.Variable 'Variable:0' shape=(2,) dtype=int32, numpy=array([10, 10], dtype=int32)>\n",
            "<tf.Variable 'Variable:0' shape=(2, 2) dtype=int32, numpy=\n",
            "array([[10,  7],\n",
            "       [ 2,  5]], dtype=int32)>\n",
            "tf.Tensor([2 5], shape=(2,), dtype=int32)\n",
            "<tf.Variable 'Variable:0' shape=(2, 2) dtype=int32, numpy=\n",
            "array([[10,  7],\n",
            "       [10,  2]], dtype=int32)>\n"
          ]
        }
      ]
    },
    {
      "cell_type": "markdown",
      "source": [
        "Завдання 9. Reshape, інтеграція з NumPy."
      ],
      "metadata": {
        "id": "WsPOJUjUZqJz"
      }
    },
    {
      "cell_type": "code",
      "source": [
        "random = tf.random.Generator.from_seed(1)\n",
        "random = random.normal(shape=(5,2))\n",
        "print(random)\n",
        "\n",
        "print(tf.reshape(random, shape=(2,5)))\n",
        "print(tf.reshape(random, shape=(1,10)))\n",
        "\n",
        "import numpy as np \n",
        "\n",
        "tensorNum = tf.constant(np.array([3, 7, 10]))\n",
        "print(tensorNum)\n",
        "print(np.array(tensorNum))\n",
        "\n",
        "import pandas as pd \n",
        "\n",
        "tensorNum = tf.constant(pd.Series([1,2,3,4,5]))\n",
        "print(tensorNum)\n",
        "print(pd.Series(tensorNum))\n",
        "\n"
      ],
      "metadata": {
        "colab": {
          "base_uri": "https://localhost:8080/"
        },
        "id": "VrRoxnB3ZxND",
        "outputId": "1748721a-34d0-4ee0-d1bc-4783341ad782"
      },
      "execution_count": 54,
      "outputs": [
        {
          "output_type": "stream",
          "name": "stdout",
          "text": [
            "tf.Tensor(\n",
            "[[ 0.43842274 -0.53439844]\n",
            " [-0.07710262  1.5658046 ]\n",
            " [-0.1012345  -0.2744976 ]\n",
            " [ 1.4204658   1.2609464 ]\n",
            " [-0.43640924 -1.9633987 ]], shape=(5, 2), dtype=float32)\n",
            "tf.Tensor(\n",
            "[[ 0.43842274 -0.53439844 -0.07710262  1.5658046  -0.1012345 ]\n",
            " [-0.2744976   1.4204658   1.2609464  -0.43640924 -1.9633987 ]], shape=(2, 5), dtype=float32)\n",
            "tf.Tensor(\n",
            "[[ 0.43842274 -0.53439844 -0.07710262  1.5658046  -0.1012345  -0.2744976\n",
            "   1.4204658   1.2609464  -0.43640924 -1.9633987 ]], shape=(1, 10), dtype=float32)\n",
            "tf.Tensor([ 3  7 10], shape=(3,), dtype=int64)\n",
            "[ 3  7 10]\n",
            "tf.Tensor([1 2 3 4 5], shape=(5,), dtype=int64)\n",
            "0    1\n",
            "1    2\n",
            "2    3\n",
            "3    4\n",
            "4    5\n",
            "dtype: int64\n"
          ]
        }
      ]
    }
  ]
}