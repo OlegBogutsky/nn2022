{
  "nbformat": 4,
  "nbformat_minor": 0,
  "metadata": {
    "colab": {
      "name": "Lab4.ipynb",
      "provenance": [],
      "collapsed_sections": [],
      "authorship_tag": "ABX9TyOXdpWit1lVk8aZkqVJ0/sO",
      "include_colab_link": true
    },
    "kernelspec": {
      "name": "python3",
      "display_name": "Python 3"
    },
    "language_info": {
      "name": "python"
    },
    "accelerator": "GPU"
  },
  "cells": [
    {
      "cell_type": "markdown",
      "metadata": {
        "id": "view-in-github",
        "colab_type": "text"
      },
      "source": [
        "<a href=\"https://colab.research.google.com/github/OlegBogutsky/nn2022/blob/main/Lab4.ipynb\" target=\"_parent\"><img src=\"https://colab.research.google.com/assets/colab-badge.svg\" alt=\"Open In Colab\"/></a>"
      ]
    },
    {
      "cell_type": "markdown",
      "source": [
        "# Лабораторна робота № 4\n",
        "---\n",
        "## Виконав Богуцький Олег, КН-31\n",
        "### Завдання:\n",
        "1. На основі документу вирішити завдання класифікації для набору даних Fashion MNIST.\n",
        "2. Для моделювання використати 3 класи індекси яких взяти відповідно до номеру у списку групи.\n",
        "3. Моделювання провести із використанням нейронної мережі (Flatten & Dense layers).\n",
        "4. Здійснити вибір оптимального кроку градієнтного алгоритму (learning_rate), а також побудову Confusion Matrix.\n",
        "---\n",
        "#Хід роботи\n"
      ],
      "metadata": {
        "id": "KSRSytp7d80z"
      }
    },
    {
      "cell_type": "markdown",
      "source": [
        "Імпортуємо необхідні бібліотеки та завантажуємо дані."
      ],
      "metadata": {
        "id": "_-ZshVHneTW9"
      }
    },
    {
      "cell_type": "code",
      "execution_count": 2,
      "metadata": {
        "id": "hSktPUy6d6u2",
        "colab": {
          "base_uri": "https://localhost:8080/"
        },
        "outputId": "cae7a63d-87c9-4a58-eae7-fc046701b8f1"
      },
      "outputs": [
        {
          "output_type": "stream",
          "name": "stdout",
          "text": [
            "Downloading data from https://storage.googleapis.com/tensorflow/tf-keras-datasets/train-labels-idx1-ubyte.gz\n",
            "32768/29515 [=================================] - 0s 0us/step\n",
            "40960/29515 [=========================================] - 0s 0us/step\n",
            "Downloading data from https://storage.googleapis.com/tensorflow/tf-keras-datasets/train-images-idx3-ubyte.gz\n",
            "26427392/26421880 [==============================] - 0s 0us/step\n",
            "26435584/26421880 [==============================] - 0s 0us/step\n",
            "Downloading data from https://storage.googleapis.com/tensorflow/tf-keras-datasets/t10k-labels-idx1-ubyte.gz\n",
            "16384/5148 [===============================================================================================] - 0s 0us/step\n",
            "Downloading data from https://storage.googleapis.com/tensorflow/tf-keras-datasets/t10k-images-idx3-ubyte.gz\n",
            "4423680/4422102 [==============================] - 0s 0us/step\n",
            "4431872/4422102 [==============================] - 0s 0us/step\n"
          ]
        }
      ],
      "source": [
        "import tensorflow as tf\n",
        "import numpy as np\n",
        "from tensorflow.keras.datasets import fashion_mnist\n",
        "\n",
        "(train_data, train_labels), (test_data, test_labels) = fashion_mnist.load_data()"
      ]
    },
    {
      "cell_type": "markdown",
      "source": [
        "Виділяємо необхідні нам класи у навчальній вибірці"
      ],
      "metadata": {
        "id": "SF8g5iugJx8B"
      }
    },
    {
      "cell_type": "code",
      "source": [
        "train_data1 = []\n",
        "train_labels1 = []\n",
        "for data in range(len(train_data)):\n",
        "  if(train_labels[data] == 1 or train_labels[data] == 4 or train_labels[data] == 8):\n",
        "    train_data1 = np.append(train_data1, train_data[data])\n",
        "    train_labels1 = np.append(train_labels1, train_labels[data])\n",
        "print(len(train_data1))\n",
        "print(train_labels1)"
      ],
      "metadata": {
        "colab": {
          "base_uri": "https://localhost:8080/"
        },
        "id": "TtA00XAegFx8",
        "outputId": "9beee2f5-fed8-4c2d-dadb-6cfbf0ff2e4c"
      },
      "execution_count": 3,
      "outputs": [
        {
          "output_type": "stream",
          "name": "stdout",
          "text": [
            "14112000\n",
            "[1. 4. 1. ... 1. 8. 1.]\n"
          ]
        }
      ]
    },
    {
      "cell_type": "markdown",
      "source": [
        "Виділяємно необхідні нам класи в тестовій вибірці"
      ],
      "metadata": {
        "id": "G21maPs2J5B_"
      }
    },
    {
      "cell_type": "code",
      "source": [
        "test_data1 = []\n",
        "test_labels1 = []\n",
        "for data in range(len(test_data)):\n",
        "  if(test_labels[data] == 1 or test_labels[data] == 4 or test_labels[data] == 8):\n",
        "    test_data1 = np.append(test_data1, test_data[data])\n",
        "    test_labels1 = np.append(test_labels1, test_labels[data])\n",
        "print(len(test_data1))\n",
        "print(len(test_labels1))"
      ],
      "metadata": {
        "colab": {
          "base_uri": "https://localhost:8080/"
        },
        "id": "Zd_aJKbM-TUm",
        "outputId": "742e2b58-b92f-4430-ae52-538e28b87390"
      },
      "execution_count": 4,
      "outputs": [
        {
          "output_type": "stream",
          "name": "stdout",
          "text": [
            "2352000\n",
            "3000\n"
          ]
        }
      ]
    },
    {
      "cell_type": "markdown",
      "source": [
        "reshape"
      ],
      "metadata": {
        "id": "QoqJrtR-J-6b"
      }
    },
    {
      "cell_type": "code",
      "source": [
        "train_data1 = np.reshape(train_data1, (len(train_labels1), 28, 28))"
      ],
      "metadata": {
        "id": "t7CRQWxR9FpV"
      },
      "execution_count": 5,
      "outputs": []
    },
    {
      "cell_type": "code",
      "source": [
        "test_data1 = np.reshape(test_data1, (len(test_labels1), 28, 28))"
      ],
      "metadata": {
        "id": "pRZCntGV-l2F"
      },
      "execution_count": 6,
      "outputs": []
    },
    {
      "cell_type": "markdown",
      "source": [
        "Нормалізуємо вхідні дані."
      ],
      "metadata": {
        "id": "ccgn_-_CTACx"
      }
    },
    {
      "cell_type": "code",
      "source": [
        "train_data1 = train_data1 / 255\n",
        "test_data1 = test_data1 / 255"
      ],
      "metadata": {
        "id": "BGegPkMkENf3"
      },
      "execution_count": 7,
      "outputs": []
    },
    {
      "cell_type": "markdown",
      "source": [
        "Навчаємо нейромережу."
      ],
      "metadata": {
        "id": "-NjwWGKYTEJY"
      }
    },
    {
      "cell_type": "code",
      "source": [
        "tf.random.set_seed(42)\n",
        "\n",
        "model_13 = tf.keras.Sequential([\n",
        "  tf.keras.layers.Flatten(input_shape=(28, 28)),\n",
        "  tf.keras.layers.Dense(4, activation=\"relu\"),\n",
        "  tf.keras.layers.Dense(4, activation=\"relu\"),\n",
        "  tf.keras.layers.Dense(10, activation=\"softmax\")\n",
        "])\n",
        "\n",
        "model_13.compile(loss=tf.keras.losses.SparseCategoricalCrossentropy(),\n",
        "                 optimizer=tf.keras.optimizers.Adam(),\n",
        "                 metrics=[\"accuracy\"])\n",
        "\n",
        "lr_scheduler = tf.keras.callbacks.LearningRateScheduler(lambda epoch: 1e-3 * 10**(epoch/200))\n",
        "\n",
        "find_lr_history = model_13.fit(train_data1,\n",
        "                               train_labels1,\n",
        "                               epochs=40,\n",
        "                               validation_data=(test_data1, test_labels1),\n",
        "                               callbacks=[lr_scheduler])\n"
      ],
      "metadata": {
        "colab": {
          "base_uri": "https://localhost:8080/"
        },
        "id": "uO3qU_1lihKv",
        "outputId": "44c58dba-38e5-460b-8880-2a5cc47257dc"
      },
      "execution_count": 17,
      "outputs": [
        {
          "output_type": "stream",
          "name": "stdout",
          "text": [
            "Epoch 1/40\n",
            "563/563 [==============================] - 3s 5ms/step - loss: 1.1819 - accuracy: 0.6773 - val_loss: 0.2151 - val_accuracy: 0.9663 - lr: 0.0010\n",
            "Epoch 2/40\n",
            "563/563 [==============================] - 2s 4ms/step - loss: 0.0882 - accuracy: 0.9781 - val_loss: 0.0789 - val_accuracy: 0.9800 - lr: 0.0010\n",
            "Epoch 3/40\n",
            "563/563 [==============================] - 2s 4ms/step - loss: 0.0635 - accuracy: 0.9832 - val_loss: 0.0625 - val_accuracy: 0.9827 - lr: 0.0010\n",
            "Epoch 4/40\n",
            "563/563 [==============================] - 2s 4ms/step - loss: 0.0548 - accuracy: 0.9857 - val_loss: 0.0567 - val_accuracy: 0.9850 - lr: 0.0010\n",
            "Epoch 5/40\n",
            "563/563 [==============================] - 2s 4ms/step - loss: 0.0492 - accuracy: 0.9869 - val_loss: 0.0520 - val_accuracy: 0.9873 - lr: 0.0010\n",
            "Epoch 6/40\n",
            "563/563 [==============================] - 2s 4ms/step - loss: 0.0435 - accuracy: 0.9879 - val_loss: 0.0568 - val_accuracy: 0.9860 - lr: 0.0011\n",
            "Epoch 7/40\n",
            "563/563 [==============================] - 2s 4ms/step - loss: 0.0411 - accuracy: 0.9886 - val_loss: 0.0523 - val_accuracy: 0.9883 - lr: 0.0011\n",
            "Epoch 8/40\n",
            "563/563 [==============================] - 2s 4ms/step - loss: 0.0367 - accuracy: 0.9901 - val_loss: 0.0486 - val_accuracy: 0.9897 - lr: 0.0011\n",
            "Epoch 9/40\n",
            "563/563 [==============================] - 2s 4ms/step - loss: 0.0349 - accuracy: 0.9904 - val_loss: 0.0479 - val_accuracy: 0.9880 - lr: 0.0011\n",
            "Epoch 10/40\n",
            "563/563 [==============================] - 2s 4ms/step - loss: 0.0328 - accuracy: 0.9908 - val_loss: 0.0466 - val_accuracy: 0.9903 - lr: 0.0011\n",
            "Epoch 11/40\n",
            "563/563 [==============================] - 2s 4ms/step - loss: 0.0317 - accuracy: 0.9916 - val_loss: 0.0544 - val_accuracy: 0.9873 - lr: 0.0011\n",
            "Epoch 12/40\n",
            "563/563 [==============================] - 2s 4ms/step - loss: 0.0293 - accuracy: 0.9913 - val_loss: 0.0470 - val_accuracy: 0.9883 - lr: 0.0011\n",
            "Epoch 13/40\n",
            "563/563 [==============================] - 2s 4ms/step - loss: 0.0292 - accuracy: 0.9908 - val_loss: 0.0491 - val_accuracy: 0.9900 - lr: 0.0011\n",
            "Epoch 14/40\n",
            "563/563 [==============================] - 2s 4ms/step - loss: 0.0282 - accuracy: 0.9918 - val_loss: 0.0463 - val_accuracy: 0.9903 - lr: 0.0012\n",
            "Epoch 15/40\n",
            "563/563 [==============================] - 2s 4ms/step - loss: 0.0272 - accuracy: 0.9918 - val_loss: 0.0521 - val_accuracy: 0.9893 - lr: 0.0012\n",
            "Epoch 16/40\n",
            "563/563 [==============================] - 2s 4ms/step - loss: 0.0260 - accuracy: 0.9919 - val_loss: 0.0471 - val_accuracy: 0.9890 - lr: 0.0012\n",
            "Epoch 17/40\n",
            "563/563 [==============================] - 2s 4ms/step - loss: 0.0250 - accuracy: 0.9924 - val_loss: 0.0474 - val_accuracy: 0.9900 - lr: 0.0012\n",
            "Epoch 18/40\n",
            "563/563 [==============================] - 2s 4ms/step - loss: 0.0266 - accuracy: 0.9921 - val_loss: 0.0612 - val_accuracy: 0.9850 - lr: 0.0012\n",
            "Epoch 19/40\n",
            "563/563 [==============================] - 2s 4ms/step - loss: 0.0239 - accuracy: 0.9933 - val_loss: 0.0483 - val_accuracy: 0.9897 - lr: 0.0012\n",
            "Epoch 20/40\n",
            "563/563 [==============================] - 2s 4ms/step - loss: 0.0241 - accuracy: 0.9922 - val_loss: 0.0534 - val_accuracy: 0.9890 - lr: 0.0012\n",
            "Epoch 21/40\n",
            "563/563 [==============================] - 2s 4ms/step - loss: 0.0234 - accuracy: 0.9927 - val_loss: 0.0503 - val_accuracy: 0.9887 - lr: 0.0013\n",
            "Epoch 22/40\n",
            "563/563 [==============================] - 2s 4ms/step - loss: 0.0222 - accuracy: 0.9928 - val_loss: 0.0496 - val_accuracy: 0.9890 - lr: 0.0013\n",
            "Epoch 23/40\n",
            "563/563 [==============================] - 2s 4ms/step - loss: 0.0222 - accuracy: 0.9929 - val_loss: 0.0551 - val_accuracy: 0.9870 - lr: 0.0013\n",
            "Epoch 24/40\n",
            "563/563 [==============================] - 2s 4ms/step - loss: 0.0219 - accuracy: 0.9933 - val_loss: 0.0499 - val_accuracy: 0.9887 - lr: 0.0013\n",
            "Epoch 25/40\n",
            "563/563 [==============================] - 2s 4ms/step - loss: 0.0208 - accuracy: 0.9938 - val_loss: 0.0503 - val_accuracy: 0.9877 - lr: 0.0013\n",
            "Epoch 26/40\n",
            "563/563 [==============================] - 2s 4ms/step - loss: 0.0202 - accuracy: 0.9937 - val_loss: 0.0612 - val_accuracy: 0.9850 - lr: 0.0013\n",
            "Epoch 27/40\n",
            "563/563 [==============================] - 2s 4ms/step - loss: 0.0222 - accuracy: 0.9928 - val_loss: 0.0521 - val_accuracy: 0.9883 - lr: 0.0013\n",
            "Epoch 28/40\n",
            "563/563 [==============================] - 2s 4ms/step - loss: 0.0193 - accuracy: 0.9941 - val_loss: 0.0532 - val_accuracy: 0.9870 - lr: 0.0014\n",
            "Epoch 29/40\n",
            "563/563 [==============================] - 2s 4ms/step - loss: 0.0177 - accuracy: 0.9948 - val_loss: 0.0643 - val_accuracy: 0.9853 - lr: 0.0014\n",
            "Epoch 30/40\n",
            "563/563 [==============================] - 2s 4ms/step - loss: 0.0191 - accuracy: 0.9939 - val_loss: 0.0559 - val_accuracy: 0.9893 - lr: 0.0014\n",
            "Epoch 31/40\n",
            "563/563 [==============================] - 2s 4ms/step - loss: 0.0184 - accuracy: 0.9943 - val_loss: 0.0536 - val_accuracy: 0.9880 - lr: 0.0014\n",
            "Epoch 32/40\n",
            "563/563 [==============================] - 2s 4ms/step - loss: 0.0184 - accuracy: 0.9942 - val_loss: 0.0553 - val_accuracy: 0.9860 - lr: 0.0014\n",
            "Epoch 33/40\n",
            "563/563 [==============================] - 2s 4ms/step - loss: 0.0180 - accuracy: 0.9944 - val_loss: 0.0583 - val_accuracy: 0.9877 - lr: 0.0014\n",
            "Epoch 34/40\n",
            "563/563 [==============================] - 2s 4ms/step - loss: 0.0170 - accuracy: 0.9947 - val_loss: 0.0655 - val_accuracy: 0.9827 - lr: 0.0015\n",
            "Epoch 35/40\n",
            "563/563 [==============================] - 2s 4ms/step - loss: 0.0162 - accuracy: 0.9948 - val_loss: 0.0616 - val_accuracy: 0.9873 - lr: 0.0015\n",
            "Epoch 36/40\n",
            "563/563 [==============================] - 2s 4ms/step - loss: 0.0171 - accuracy: 0.9941 - val_loss: 0.0583 - val_accuracy: 0.9880 - lr: 0.0015\n",
            "Epoch 37/40\n",
            "563/563 [==============================] - 2s 4ms/step - loss: 0.0154 - accuracy: 0.9957 - val_loss: 0.0569 - val_accuracy: 0.9867 - lr: 0.0015\n",
            "Epoch 38/40\n",
            "563/563 [==============================] - 2s 4ms/step - loss: 0.0175 - accuracy: 0.9942 - val_loss: 0.0541 - val_accuracy: 0.9860 - lr: 0.0015\n",
            "Epoch 39/40\n",
            "563/563 [==============================] - 2s 4ms/step - loss: 0.0150 - accuracy: 0.9955 - val_loss: 0.0579 - val_accuracy: 0.9880 - lr: 0.0015\n",
            "Epoch 40/40\n",
            "563/563 [==============================] - 2s 4ms/step - loss: 0.0180 - accuracy: 0.9943 - val_loss: 0.0570 - val_accuracy: 0.9880 - lr: 0.0016\n",
            "<keras.callbacks.LearningRateScheduler object at 0x7f367dacc110>\n"
          ]
        }
      ]
    },
    {
      "cell_type": "markdown",
      "source": [
        "Тестуємо та рахуємо метрики."
      ],
      "metadata": {
        "id": "pNhblIiPTIj4"
      }
    },
    {
      "cell_type": "code",
      "source": [
        "predictions = model_13.predict(test_data1)\n",
        "\n",
        "y = []\n",
        "for data in predictions:\n",
        "  index_max = np.argmax(data)\n",
        "  y = np.append(y, index_max)\n",
        "\n",
        "from sklearn.metrics import confusion_matrix\n",
        "\n",
        "cm = confusion_matrix(test_labels1, y)\n",
        "\n",
        "import pandas as pd\n",
        "import seaborn as sns\n",
        "import matplotlib.pyplot as plt\n",
        "\n",
        "cm_df = pd.DataFrame(cm,\n",
        "                     index = ['Trouser','Coat','Bag'], \n",
        "                     columns = ['Trouser','Coat','Bag'])\n",
        "\n",
        "plt.figure(figsize=(5,4))\n",
        "sns.heatmap(cm_df, annot=True)\n",
        "plt.title('Confusion Matrix')\n",
        "plt.ylabel('Actal Values')\n",
        "plt.xlabel('Predicted Values')\n",
        "plt.show()\n",
        "\n",
        "\n",
        "\n",
        "accuracy =  (cm[0][0]+cm[1][1]+cm[2][2]) /(cm.sum())\n",
        "\n",
        "print('Accuracy of classification = {:0.3f}'.format(accuracy))"
      ],
      "metadata": {
        "colab": {
          "base_uri": "https://localhost:8080/",
          "height": 312
        },
        "id": "YrP3vsq_HpHJ",
        "outputId": "080f5f84-4169-410f-f18c-8e2ee2d39a5c"
      },
      "execution_count": 34,
      "outputs": [
        {
          "output_type": "display_data",
          "data": {
            "text/plain": [
              "<Figure size 360x288 with 2 Axes>"
            ],
            "image/png": "[encoded data removed]"
          },
          "metadata": {
            "needs_background": "light"
          }
        },
        {
          "output_type": "stream",
          "name": "stdout",
          "text": [
            "Accuracy of classification = 0.988\n"
          ]
        }
      ]
    },
    {
      "cell_type": "markdown",
      "source": [
        "Висновки: у цій лабораторній роботі я навчився отримувати набори даних з інтернету, приводити їх до потрібного вигляду, налаштовувати нейромережу та рахувати метрики для багатокласової класифікації."
      ],
      "metadata": {
        "id": "qH3L5G9vTRys"
      }
    }
  ]
}